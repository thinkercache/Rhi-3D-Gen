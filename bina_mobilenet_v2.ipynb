{
 "cells": [
  {
   "cell_type": "code",
   "execution_count": 18,
   "id": "994b0755",
   "metadata": {},
   "outputs": [],
   "source": [
    "#directory of the dataset for classification\n",
    "base_dir = '/binaryclass/rhinorm'\n",
    "\n",
    "\n",
    "train_dir = '/binaryclass/rhinorm/train'\n",
    "validation_dir = '/binaryclass/rhinorm/validation'\n",
    "test_dir = '/binaryclass/rhinorm/test'"
   ]
  },
  {
   "cell_type": "code",
   "execution_count": 19,
   "id": "4ae5b54f",
   "metadata": {},
   "outputs": [
    {
     "name": "stdout",
     "output_type": "stream",
     "text": [
      "Found 8374 images belonging to 2 classes.\n",
      "Found 2392 images belonging to 2 classes.\n",
      "Found 1197 images belonging to 2 classes.\n",
      "Epoch 1/50\n",
      "262/262 [==============================] - 51s 189ms/step - loss: 2.1839 - accuracy: 0.9402 - val_loss: 1.7893 - val_accuracy: 0.9958\n",
      "Epoch 2/50\n",
      "262/262 [==============================] - 49s 188ms/step - loss: 1.4928 - accuracy: 0.9861 - val_loss: 1.2227 - val_accuracy: 0.9992\n",
      "Epoch 3/50\n",
      "262/262 [==============================] - 49s 187ms/step - loss: 1.0466 - accuracy: 0.9897 - val_loss: 0.8517 - val_accuracy: 1.0000\n",
      "Epoch 4/50\n",
      "262/262 [==============================] - 49s 188ms/step - loss: 0.7354 - accuracy: 0.9934 - val_loss: 0.6033 - val_accuracy: 1.0000\n",
      "Epoch 5/50\n",
      "262/262 [==============================] - 49s 187ms/step - loss: 0.5270 - accuracy: 0.9926 - val_loss: 0.4306 - val_accuracy: 1.0000\n",
      "Epoch 6/50\n",
      "262/262 [==============================] - 49s 188ms/step - loss: 0.3834 - accuracy: 0.9932 - val_loss: 0.3112 - val_accuracy: 0.9987\n",
      "Epoch 7/50\n",
      "262/262 [==============================] - 49s 187ms/step - loss: 0.2834 - accuracy: 0.9930 - val_loss: 0.2310 - val_accuracy: 0.9996\n",
      "Epoch 8/50\n",
      "262/262 [==============================] - 50s 189ms/step - loss: 0.2157 - accuracy: 0.9943 - val_loss: 0.1765 - val_accuracy: 0.9992\n",
      "Epoch 9/50\n",
      "262/262 [==============================] - 50s 189ms/step - loss: 0.1669 - accuracy: 0.9951 - val_loss: 0.1353 - val_accuracy: 0.9992\n",
      "Epoch 10/50\n",
      "262/262 [==============================] - 49s 187ms/step - loss: 0.1280 - accuracy: 0.9961 - val_loss: 0.1050 - val_accuracy: 0.9996\n",
      "Epoch 11/50\n",
      "262/262 [==============================] - 49s 187ms/step - loss: 0.1113 - accuracy: 0.9937 - val_loss: 0.0842 - val_accuracy: 0.9996\n",
      "Epoch 12/50\n",
      "262/262 [==============================] - 49s 187ms/step - loss: 0.0890 - accuracy: 0.9951 - val_loss: 0.0700 - val_accuracy: 0.9992\n",
      "Epoch 13/50\n",
      "262/262 [==============================] - 49s 189ms/step - loss: 0.0827 - accuracy: 0.9931 - val_loss: 0.0593 - val_accuracy: 1.0000\n",
      "Epoch 14/50\n",
      "262/262 [==============================] - 49s 189ms/step - loss: 0.0696 - accuracy: 0.9940 - val_loss: 0.0515 - val_accuracy: 0.9996\n",
      "Epoch 15/50\n",
      "262/262 [==============================] - 49s 188ms/step - loss: 0.0601 - accuracy: 0.9953 - val_loss: 0.0436 - val_accuracy: 0.9996\n",
      "Epoch 16/50\n",
      "262/262 [==============================] - 49s 188ms/step - loss: 0.0535 - accuracy: 0.9958 - val_loss: 0.0387 - val_accuracy: 0.9992\n",
      "Epoch 17/50\n",
      "262/262 [==============================] - 49s 189ms/step - loss: 0.0515 - accuracy: 0.9941 - val_loss: 0.0355 - val_accuracy: 0.9987\n",
      "Epoch 18/50\n",
      "262/262 [==============================] - 50s 189ms/step - loss: 0.0498 - accuracy: 0.9932 - val_loss: 0.0325 - val_accuracy: 1.0000\n",
      "Epoch 19/50\n",
      "262/262 [==============================] - 49s 187ms/step - loss: 0.0388 - accuracy: 0.9965 - val_loss: 0.0292 - val_accuracy: 0.9987\n",
      "Epoch 20/50\n",
      "262/262 [==============================] - 49s 188ms/step - loss: 0.0384 - accuracy: 0.9955 - val_loss: 0.0282 - val_accuracy: 0.9996\n",
      "Epoch 21/50\n",
      "262/262 [==============================] - 49s 189ms/step - loss: 0.0439 - accuracy: 0.9936 - val_loss: 0.0277 - val_accuracy: 0.9979\n",
      "Epoch 22/50\n",
      "262/262 [==============================] - 49s 188ms/step - loss: 0.0414 - accuracy: 0.9950 - val_loss: 0.0247 - val_accuracy: 1.0000\n",
      "Epoch 23/50\n",
      "262/262 [==============================] - 49s 188ms/step - loss: 0.0372 - accuracy: 0.9951 - val_loss: 0.0231 - val_accuracy: 0.9996\n",
      "Epoch 24/50\n",
      "262/262 [==============================] - 49s 188ms/step - loss: 0.0382 - accuracy: 0.9950 - val_loss: 0.0228 - val_accuracy: 0.9996\n",
      "Epoch 25/50\n",
      "262/262 [==============================] - 49s 186ms/step - loss: 0.0343 - accuracy: 0.9958 - val_loss: 0.0563 - val_accuracy: 0.9875\n",
      "Epoch 26/50\n",
      "262/262 [==============================] - 50s 189ms/step - loss: 0.0339 - accuracy: 0.9953 - val_loss: 0.0207 - val_accuracy: 0.9996\n",
      "Epoch 27/50\n",
      "262/262 [==============================] - 49s 188ms/step - loss: 0.0379 - accuracy: 0.9938 - val_loss: 0.0208 - val_accuracy: 1.0000\n",
      "Epoch 28/50\n",
      "262/262 [==============================] - 49s 186ms/step - loss: 0.0344 - accuracy: 0.9957 - val_loss: 0.0204 - val_accuracy: 1.0000\n",
      "Epoch 29/50\n",
      "262/262 [==============================] - 49s 187ms/step - loss: 0.0304 - accuracy: 0.9967 - val_loss: 0.0194 - val_accuracy: 1.0000\n",
      "Epoch 30/50\n",
      "262/262 [==============================] - 49s 188ms/step - loss: 0.0296 - accuracy: 0.9962 - val_loss: 0.0180 - val_accuracy: 1.0000\n",
      "Epoch 31/50\n",
      "262/262 [==============================] - 49s 187ms/step - loss: 0.0353 - accuracy: 0.9947 - val_loss: 0.0187 - val_accuracy: 1.0000\n",
      "Epoch 32/50\n",
      "262/262 [==============================] - 49s 188ms/step - loss: 0.0316 - accuracy: 0.9953 - val_loss: 0.0197 - val_accuracy: 1.0000\n",
      "Epoch 33/50\n",
      "262/262 [==============================] - 49s 188ms/step - loss: 0.0270 - accuracy: 0.9965 - val_loss: 0.0170 - val_accuracy: 1.0000\n",
      "Epoch 34/50\n",
      "262/262 [==============================] - 49s 188ms/step - loss: 0.0238 - accuracy: 0.9970 - val_loss: 0.0156 - val_accuracy: 1.0000\n",
      "Epoch 35/50\n",
      "262/262 [==============================] - 49s 187ms/step - loss: 0.0330 - accuracy: 0.9952 - val_loss: 0.0193 - val_accuracy: 0.9996\n",
      "Epoch 36/50\n",
      "262/262 [==============================] - 49s 188ms/step - loss: 0.0269 - accuracy: 0.9964 - val_loss: 0.0163 - val_accuracy: 1.0000\n",
      "Epoch 37/50\n",
      "262/262 [==============================] - 50s 190ms/step - loss: 0.0277 - accuracy: 0.9958 - val_loss: 0.0165 - val_accuracy: 1.0000\n",
      "38/38 [==============================] - 1s 27ms/step - loss: 0.0172 - accuracy: 1.0000\n",
      "Test loss: 0.0172, Test accuracy: 1.0000\n"
     ]
    }
   ],
   "source": [
    "\n",
    "\n",
    "import tensorflow as tf\n",
    "from tensorflow.keras.applications import MobileNetV2\n",
    "from tensorflow.keras.layers import BatchNormalization, Dense, Dropout, GlobalAveragePooling2D\n",
    "from tensorflow.keras.models import Model\n",
    "from tensorflow.keras.preprocessing.image import ImageDataGenerator\n",
    "from tensorflow.keras.callbacks import EarlyStopping, CSVLogger, ModelCheckpoint\n",
    "from tensorflow.keras.optimizers import Adam\n",
    "#from tensorflow.keras.optimizers import Nadam\n",
    "\n",
    "\n",
    "\n",
    "\n",
    "# Set up the data generators with data augmentation for the train set\n",
    "train_datagen = ImageDataGenerator(\n",
    "    rescale=1./255,\n",
    "    rotation_range=20,\n",
    "    width_shift_range=0.2,\n",
    "    height_shift_range=0.2,\n",
    "    shear_range=0.2,\n",
    "    zoom_range=0.2,\n",
    "    horizontal_flip=True,\n",
    "    vertical_flip=True,\n",
    "    fill_mode='nearest'\n",
    ")\n",
    "\n",
    "validation_datagen = ImageDataGenerator(rescale=1./255)\n",
    "test_datagen = ImageDataGenerator(rescale=1./255)\n",
    "\n",
    "train_generator = train_datagen.flow_from_directory(\n",
    "    train_dir,\n",
    "    target_size=(224, 224),\n",
    "    batch_size=32,\n",
    "    class_mode='binary')\n",
    "\n",
    "validation_generator = validation_datagen.flow_from_directory(\n",
    "    validation_dir,\n",
    "    target_size=(224, 224),\n",
    "    batch_size=32,\n",
    "    class_mode='binary')\n",
    "\n",
    "test_generator = test_datagen.flow_from_directory(\n",
    "    test_dir,\n",
    "    target_size=(224, 224),\n",
    "    batch_size=32,\n",
    "    class_mode='binary',\n",
    "    shuffle=False)\n",
    "\n",
    "# Load the MobileNetV2 model without the top layers\n",
    "base_model = MobileNetV2(weights='imagenet', include_top=False, input_shape=(224, 224, 3))\n",
    "\n",
    "\n",
    "\n",
    "# Add custom layers on top of the base model with batch normalization and regularization\n",
    "x = base_model.output\n",
    "x = GlobalAveragePooling2D()(x)\n",
    "x = BatchNormalization()(x)  # Add batch normalization\n",
    "x = Dropout(0.5)(x)\n",
    "x = Dense(128, activation='relu', kernel_regularizer=tf.keras.regularizers.l2(0.01))(x)  # Add L2 regularization\n",
    "x = BatchNormalization()(x)\n",
    "predictions = Dense(1, activation='sigmoid')(x)\n",
    "\n",
    "# Create the final model\n",
    "model = Model(inputs=base_model.input, outputs=predictions)\n",
    "\n",
    "# Freeze the base model layers to use the pre-trained weights\n",
    "for layer in base_model.layers:\n",
    "    layer.trainable = False\n",
    "\n",
    "\n",
    "custom_lr = 1e-4\n",
    "optimizer = Adam(learning_rate=custom_lr)\n",
    "\n",
    "# Compile the model\n",
    "model.compile(optimizer=optimizer, loss='binary_crossentropy', metrics=['accuracy'])\n",
    "\n",
    "# # Add early stopping to prevent overfitting\n",
    "# early_stopping = EarlyStopping(monitor='val_loss', patience=3, restore_best_weights=True)\n",
    "\n",
    "# Train the model\n",
    "early_stopping = [EarlyStopping(monitor='val_loss', patience=3),\n",
    "             ModelCheckpoint(filepath='/binaryclass_output/mobilenet_v2/mobilenet_v2_binaclass_best_model.h5', monitor='val_loss', save_best_only=True)]\n",
    "\n",
    "#log the training epochs\n",
    "log_path = \"/binaryclass_output/mobilenet_v2/mobilenet_v2_binaclass.log\"\n",
    "csv_callback = tf.keras.callbacks.CSVLogger(log_path, separator=',', append=True)\n",
    "\n",
    "# Train the model\n",
    "history = model.fit(\n",
    "    train_generator,\n",
    "    epochs=50,\n",
    "    validation_data=validation_generator,\n",
    "    callbacks=[early_stopping, csv_callback])\n",
    "\n",
    "# Evaluate the model on the test set\n",
    "loss, accuracy = model.evaluate(test_generator)\n",
    "print(f'Test loss: {loss:.4f}, Test accuracy: {accuracy:.4f}')\n"
   ]
  },
  {
   "cell_type": "code",
   "execution_count": 20,
   "id": "7154fa71",
   "metadata": {
    "scrolled": true
   },
   "outputs": [
    {
     "data": {
      "image/png": "[encoded data removed]",
      "text/plain": [
       "<Figure size 640x480 with 1 Axes>"
      ]
     },
     "metadata": {},
     "output_type": "display_data"
    },
    {
     "data": {
      "image/png": "[encoded data removed]",
      "text/plain": [
       "<Figure size 640x480 with 1 Axes>"
      ]
     },
     "metadata": {},
     "output_type": "display_data"
    }
   ],
   "source": [
    "import matplotlib.pyplot as plt\n",
    "\n",
    "# Plot training & validation accuracy values\n",
    "plt.figure()\n",
    "plt.plot(history.history['accuracy'])\n",
    "plt.plot(history.history['val_accuracy'])\n",
    "plt.title('Model accuracy')\n",
    "plt.ylabel('Accuracy')\n",
    "plt.xlabel('Epoch')\n",
    "plt.legend(['Train', 'Validation'], loc='upper left')\n",
    "plt.savefig('/mobilenet_v2_binaclass_accuracy_plot.png', dpi=300, bbox_inches='tight')  \n",
    "plt.show()\n",
    "\n",
    "# Plot training & validation loss values\n",
    "plt.figure()\n",
    "plt.plot(history.history['loss'])\n",
    "plt.plot(history.history['val_loss'])\n",
    "plt.title('Model loss')\n",
    "plt.ylabel('Loss')\n",
    "plt.xlabel('Epoch')\n",
    "plt.legend(['Train', 'Validation'], loc='upper left')\n",
    "plt.savefig('/mobilenet_v2_binaclass_loss_plot.png', dpi=300, bbox_inches='tight')  # Save the loss plot as an image\n",
    "plt.show()\n"
   ]
  },
  {
   "cell_type": "code",
   "execution_count": 21,
   "id": "5e069dc1",
   "metadata": {},
   "outputs": [
    {
     "name": "stdout",
     "output_type": "stream",
     "text": [
      "{'norm': 0, 'rhi': 1}\n"
     ]
    }
   ],
   "source": [
    "\n",
    "#to get the class labels assigned by the model during training.\n",
    "class_dict = train_generator.class_indices\n",
    "print(class_dict)\n"
   ]
  },
  {
   "cell_type": "code",
   "execution_count": 8,
   "id": "82e07612",
   "metadata": {},
   "outputs": [
    {
     "name": "stdout",
     "output_type": "stream",
     "text": [
      "Found 1197 images belonging to 2 classes.\n",
      "38/38 [==============================] - 2s 28ms/step - loss: 0.0193 - accuracy: 1.0000\n",
      "Test loss: 0.019327299669384956\n",
      "Test accuracy: 1.0\n"
     ]
    }
   ],
   "source": [
    "import numpy as np\n",
    "from tensorflow.keras.models import load_model\n",
    "from tensorflow.keras.preprocessing.image import ImageDataGenerator\n",
    "\n",
    "\n",
    "test_dir = '/binaryclass/rhinorm/test'\n",
    "\n",
    "# Load the saved model .h5 file\n",
    "loaded_model = load_model('/mobilenet_v2/mobilenet_v2_binaclass_best_model.h5')\n",
    "\n",
    "# Create the test generator with the same preprocessing as used during training\n",
    "test_datagen = ImageDataGenerator(rescale=1./255)\n",
    "\n",
    "# Prepare the test data\n",
    "\n",
    "test_generator = test_datagen.flow_from_directory(\n",
    "    test_dir,  # Replace with the path to your test directory\n",
    "    target_size=(224, 224),\n",
    "    batch_size=32,\n",
    "    class_mode='binary',\n",
    "    shuffle=False)\n",
    "\n",
    "# Evaluate the loaded model on the test data\n",
    "test_loss, test_accuracy = loaded_model.evaluate(test_generator)\n",
    "\n",
    "# Print the test score (loss and accuracy)\n",
    "print(f'Test loss: {test_loss}')\n",
    "print(f'Test accuracy: {test_accuracy}')\n",
    "\n",
    "# Write the test score (loss and accuracy) to a file\n",
    "with open('/mobilenet_v2_binaclass_test_results.txt', 'w') as file:\n",
    "    file.write(f'Test loss: {test_loss}\\n')\n",
    "    file.write(f'Test accuracy: {test_accuracy}\\n')\n"
   ]
  },
  {
   "cell_type": "code",
   "execution_count": 9,
   "id": "f059253b",
   "metadata": {},
   "outputs": [
    {
     "name": "stdout",
     "output_type": "stream",
     "text": [
      "38/38 [==============================] - 1s 26ms/step\n",
      "              precision    recall  f1-score   support\n",
      "\n",
      "        norm       1.00      1.00      1.00       600\n",
      "         rhi       1.00      1.00      1.00       597\n",
      "\n",
      "    accuracy                           1.00      1197\n",
      "   macro avg       1.00      1.00      1.00      1197\n",
      "weighted avg       1.00      1.00      1.00      1197\n",
      "\n"
     ]
    }
   ],
   "source": [
    "\n",
    "import numpy as np\n",
    "from sklearn.metrics import classification_report\n",
    "\n",
    "# Get true labels and predicted labels from the test set\n",
    "true_labels = test_generator.classes\n",
    "predicted_probs = loaded_model.predict(test_generator)\n",
    "predicted_labels = np.round(predicted_probs).flatten().astype(int)\n",
    "\n",
    "# Calculate the classification report\n",
    "report = classification_report(true_labels, predicted_labels, output_dict=True, target_names=['norm', 'rhi'])\n",
    "report_str = classification_report(true_labels, predicted_labels, target_names=['norm', 'rhi'])\n",
    "\n",
    "# Print the classification report\n",
    "print(report_str)\n",
    "\n",
    "# Save classification report to file\n",
    "with open('/mobilenet_v2_binaclass_classification_report_.txt', 'w') as f:\n",
    "     f.write(report_str)"
   ]
  },
  {
   "cell_type": "code",
   "execution_count": 3,
   "id": "074c790c",
   "metadata": {},
   "outputs": [
    {
     "name": "stdout",
     "output_type": "stream",
     "text": [
      "38/38 [==============================] - 1s 27ms/step\n",
      "[[600   0]\n",
      " [  0 597]]\n"
     ]
    }
   ],
   "source": [
    "import numpy as np\n",
    "from sklearn.metrics import confusion_matrix\n",
    "\n",
    "# Predict class labels on the test set\n",
    "y_pred_probs = loaded_model.predict(test_generator)\n",
    "y_pred = np.round(y_pred_probs).flatten()  # Round probabilities to get class labels\n",
    "\n",
    "# Get the true class labels from the test set\n",
    "y_true = test_generator.classes\n",
    "\n",
    "# Compute the confusion matrix\n",
    "cm = confusion_matrix(y_true, y_pred)\n",
    "\n",
    "# Print the confusion matrix as an array\n",
    "print(cm)"
   ]
  },
  {
   "cell_type": "code",
   "execution_count": 4,
   "id": "6739baff",
   "metadata": {},
   "outputs": [
    {
     "name": "stdout",
     "output_type": "stream",
     "text": [
      "38/38 [==============================] - 1s 26ms/step\n"
     ]
    },
    {
     "data": {
      "image/png": "[encoded data removed]",
      "text/plain": [
       "<Figure size 600x600 with 1 Axes>"
      ]
     },
     "metadata": {},
     "output_type": "display_data"
    }
   ],
   "source": [
    "import numpy as np\n",
    "import matplotlib.pyplot as plt\n",
    "import seaborn as sns\n",
    "from sklearn.metrics import confusion_matrix\n",
    "\n",
    "# Predict class labels on the test set\n",
    "y_pred_probs = loaded_model.predict(test_generator)\n",
    "y_pred = np.round(y_pred_probs).flatten() \n",
    "\n",
    "# Get the true class labels from the test set\n",
    "y_true = test_generator.classes\n",
    "\n",
    "# Compute the confusion matrix\n",
    "cm = confusion_matrix(y_true, y_pred)\n",
    "\n",
    "# Plot the confusion matrix using seaborn\n",
    "plt.figure(figsize=(6, 6))\n",
    "sns.heatmap(cm, annot=True, fmt='d', cmap='Blues', cbar=False, square=True, xticklabels=['norm', 'rhi'], yticklabels=['norm', 'rhi'])\n",
    "plt.xlabel('Predicted')\n",
    "plt.ylabel('True')\n",
    "plt.title('Confusion Matrix')\n",
    "plt.savefig('/mobilenet_v2_binaclass_cmatrix.png', dpi=300, bbox_inches='tight')\n",
    "plt.show()\n"
   ]
  },
  {
   "cell_type": "code",
   "execution_count": null,
   "id": "9025d8b0",
   "metadata": {},
   "outputs": [],
   "source": [
    "###################################\n",
    "##################################\n",
    "#################################\n",
    "# BELOW IS FOR TESTING THE RESULTS ON REAL RHINOPHYMA IMAGES\n",
    "#################################\n",
    "##################################\n",
    "###################################"
   ]
  },
  {
   "cell_type": "code",
   "execution_count": 5,
   "id": "43f7d2e0",
   "metadata": {},
   "outputs": [
    {
     "name": "stdout",
     "output_type": "stream",
     "text": [
      "Found 440 images belonging to 2 classes.\n",
      "14/14 [==============================] - 1s 57ms/step - loss: 0.0839 - accuracy: 0.9773\n",
      "Test loss: 0.08392634242773056\n",
      "Test accuracy: 0.9772727489471436\n"
     ]
    }
   ],
   "source": [
    "import numpy as np\n",
    "from tensorflow.keras.models import load_model\n",
    "from tensorflow.keras.preprocessing.image import ImageDataGenerator\n",
    "\n",
    "#test_dir = 'gdrive/My Drive/test_2'\n",
    "test_dir = '/real_rhinorm/test'\n",
    "\n",
    "# Load the saved model .h5 file\n",
    "loaded_model = load_model('/mobilenet_v2_binaclass_best_model.h5')\n",
    "\n",
    "# Create the test generator with the same preprocessing as used during training\n",
    "test_datagen = ImageDataGenerator(rescale=1./255)\n",
    "\n",
    "# Prepare the test data\n",
    "test_datagen = ImageDataGenerator(rescale=1./255)\n",
    "test_generator = test_datagen.flow_from_directory(\n",
    "    test_dir,  # Replace with the path to your test directory\n",
    "    target_size=(224, 224),\n",
    "    batch_size=32,\n",
    "    class_mode='binary',\n",
    "    shuffle=False)\n",
    "\n",
    "# Evaluate the loaded model on the test data\n",
    "test_loss, test_accuracy = loaded_model.evaluate(test_generator)\n",
    "\n",
    "# Print the test score (loss and accuracy)\n",
    "print(f'Test loss: {test_loss}')\n",
    "print(f'Test accuracy: {test_accuracy}')\n",
    "\n",
    "Write the test score (loss and accuracy) to a file\n",
    "with open('/mobilenet_v2_binaclass_test_results_REAL.txt', 'w') as file:\n",
    "    file.write(f'Test loss: {test_loss}\\n')\n",
    "    file.write(f'Test accuracy: {test_accuracy}\\n')\n"
   ]
  },
  {
   "cell_type": "code",
   "execution_count": 44,
   "id": "a85dfcea",
   "metadata": {},
   "outputs": [
    {
     "name": "stdout",
     "output_type": "stream",
     "text": [
      "14/14 [==============================] - 1s 36ms/step\n",
      "              precision    recall  f1-score   support\n",
      "\n",
      "        norm       0.96      1.00      0.98       220\n",
      "         rhi       1.00      0.95      0.98       220\n",
      "\n",
      "    accuracy                           0.98       440\n",
      "   macro avg       0.98      0.98      0.98       440\n",
      "weighted avg       0.98      0.98      0.98       440\n",
      "\n"
     ]
    }
   ],
   "source": [
    "#CLASSIFICATION REPORT\n",
    "\n",
    "import numpy as np\n",
    "from sklearn.metrics import classification_report\n",
    "\n",
    "# Get true labels and predicted labels from the test set\n",
    "true_labels = test_generator.classes\n",
    "predicted_probs = loaded_model.predict(test_generator)\n",
    "predicted_labels = np.round(predicted_probs).flatten().astype(int)\n",
    "\n",
    "# Calculate the classification report\n",
    "report = classification_report(true_labels, predicted_labels, output_dict=True, target_names=['norm', 'rhi'])\n",
    "report_str = classification_report(true_labels, predicted_labels, target_names=['norm', 'rhi'])\n",
    "\n",
    "# Print the classification report\n",
    "print(report_str)\n",
    "\n",
    "# Save classification report to file\n",
    "with open('/mobilenet_v2_binaclass_classification_report_REAL.txt', 'w') as f:\n",
    "    f.write(report_str)"
   ]
  },
  {
   "cell_type": "code",
   "execution_count": 45,
   "id": "838dfe1f",
   "metadata": {},
   "outputs": [
    {
     "name": "stdout",
     "output_type": "stream",
     "text": [
      "14/14 [==============================] - 1s 37ms/step\n",
      "[[220   0]\n",
      " [ 10 210]]\n"
     ]
    }
   ],
   "source": [
    "import numpy as np\n",
    "from sklearn.metrics import confusion_matrix\n",
    "\n",
    "# Predict class labels on the test set\n",
    "y_pred_probs = loaded_model.predict(test_generator)\n",
    "y_pred = np.round(y_pred_probs).flatten()  # Round probabilities to get class labels\n",
    "\n",
    "# Get the true class labels from the test set\n",
    "y_true = test_generator.classes\n",
    "\n",
    "# Compute the confusion matrix\n",
    "cm = confusion_matrix(y_true, y_pred)\n",
    "\n",
    "# Print the confusion matrix as an array\n",
    "print(cm)"
   ]
  },
  {
   "cell_type": "code",
   "execution_count": 46,
   "id": "d38fbdab",
   "metadata": {},
   "outputs": [
    {
     "name": "stdout",
     "output_type": "stream",
     "text": [
      "14/14 [==============================] - 1s 36ms/step\n"
     ]
    },
    {
     "data": {
      "image/png": "[encoded data removed]",
      "text/plain": [
       "<Figure size 600x600 with 1 Axes>"
      ]
     },
     "metadata": {},
     "output_type": "display_data"
    }
   ],
   "source": [
    "import numpy as np\n",
    "import matplotlib.pyplot as plt\n",
    "import seaborn as sns\n",
    "from sklearn.metrics import confusion_matrix\n",
    "\n",
    "# Predict class labels on the test set\n",
    "y_pred_probs = loaded_model.predict(test_generator)\n",
    "y_pred = np.round(y_pred_probs).flatten()  # Round probabilities to get class labels\n",
    "\n",
    "# Get the true class labels from the test set\n",
    "y_true = test_generator.classes\n",
    "\n",
    "# Compute the confusion matrix\n",
    "cm = confusion_matrix(y_true, y_pred)\n",
    "\n",
    "# Plot the confusion matrix using seaborn\n",
    "plt.figure(figsize=(6, 6))\n",
    "sns.heatmap(cm, annot=True, fmt='d', cmap='Blues', cbar=False, square=True, xticklabels=['norm', 'rhi'], yticklabels=['norm', 'rhi'])\n",
    "plt.xlabel('Predicted')\n",
    "plt.ylabel('True')\n",
    "plt.title('Confusion Matrix')\n",
    "plt.savefig('/mobilenet_v2_binaclass_cmatrix_REAL.png', dpi=300, bbox_inches='tight')\n",
    "plt.show()"
   ]
  },
  {
   "cell_type": "code",
   "execution_count": null,
   "id": "4cc72bfd",
   "metadata": {},
   "outputs": [],
   "source": []
  }
 ],
 "metadata": {
  "kernelspec": {
   "display_name": "Python 3 (ipykernel)",
   "language": "python",
   "name": "python3"
  },
  "language_info": {
   "codemirror_mode": {
    "name": "ipython",
    "version": 3
   },
   "file_extension": ".py",
   "mimetype": "text/x-python",
   "name": "python",
   "nbconvert_exporter": "python",
   "pygments_lexer": "ipython3",
   "version": "3.9.7"
  }
 },
 "nbformat": 4,
 "nbformat_minor": 5
}
