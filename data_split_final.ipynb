{
 "cells": [
  {
   "cell_type": "code",
   "execution_count": 7,
   "id": "82c69794",
   "metadata": {},
   "outputs": [],
   "source": [
    "import os\n",
    "import shutil\n",
    "from sklearn.model_selection import train_test_split\n"
   ]
  },
  {
   "cell_type": "code",
   "execution_count": 9,
   "id": "d824a227",
   "metadata": {},
   "outputs": [],
   "source": [
    "# Define path to the source folder containing all the images\n",
    "src_folder = '/rhi567_masked'\n",
    "\n",
    "# Define path to the destination folders for train, validation, and test sets\n",
    "train_folder = '/train/'\n",
    "val_folder = '/valid/'\n",
    "test_folder = '/test/'\n",
    "\n",
    "# Define the size of the validation and test sets (in percentage)\n",
    "val_size = 0.2\n",
    "test_size = 0.1\n",
    "\n",
    "# Get a list of all the image files in the source folder\n",
    "image_files = [os.path.join(src_folder, f) for f in os.listdir(src_folder) if os.path.isfile(os.path.join(src_folder, f))]\n",
    "\n",
    "# Split the image files into train, validation, and test sets\n",
    "train_files, val_test_files = train_test_split(image_files, test_size=val_size+test_size, random_state=42)\n",
    "val_files, test_files = train_test_split(val_test_files, test_size=test_size/(val_size+test_size), random_state=42)\n",
    "\n",
    "# Copy the train files to the train folder\n",
    "for file in train_files:\n",
    "    shutil.copy(file, train_folder)\n",
    "\n",
    "# Copy the validation files to the validation folder\n",
    "for file in val_files:\n",
    "    shutil.copy(file, val_folder)\n",
    "\n",
    "# Copy the test files to the test folder\n",
    "for file in test_files:\n",
    "    shutil.copy(file, test_folder)\n"
   ]
  }
 ],
 "metadata": {
  "kernelspec": {
   "display_name": "Python 3 (ipykernel)",
   "language": "python",
   "name": "python3"
  },
  "language_info": {
   "codemirror_mode": {
    "name": "ipython",
    "version": 3
   },
   "file_extension": ".py",
   "mimetype": "text/x-python",
   "name": "python",
   "nbconvert_exporter": "python",
   "pygments_lexer": "ipython3",
   "version": "3.9.7"
  }
 },
 "nbformat": 4,
 "nbformat_minor": 5
}
