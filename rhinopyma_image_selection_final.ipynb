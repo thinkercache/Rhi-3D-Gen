{
 "cells": [
  {
   "cell_type": "code",
   "execution_count": 1,
   "id": "cd6c9063",
   "metadata": {},
   "outputs": [],
   "source": [
    "import glob\n",
    "import shutil\n",
    "import os\n"
   ]
  },
  {
   "cell_type": "code",
   "execution_count": 12,
   "id": "ef898f45",
   "metadata": {},
   "outputs": [],
   "source": [
    "# for selecting images with the camera number 5,6,7. \n",
    "\n",
    "# Define the path of the folder containing the files\n",
    "folder_path = '/home/anwesha/Downloads/classi/renders_567/allrhifaces/'\n",
    "\n",
    "# Define the patterns of the files to detect. Replace with 00006.png, and 00007.png. \n",
    "patterns = ['*_Camera_00005.png']\n",
    "\n",
    "# Define the path of the folder to save the detected files\n",
    "save_path = '/allrhifacescam5/'\n",
    "\n",
    "# Create the folder to save the detected files if it doesn't exist\n",
    "if not os.path.exists(save_path):\n",
    "    os.makedirs(save_path)\n",
    "\n",
    "# Loop through the patterns and search for matching files\n",
    "for pattern in patterns:\n",
    "    file_list = glob.glob(folder_path + pattern)\n",
    "    \n",
    "    # Copy the matching files to the save folder\n",
    "    for file_path in file_list:\n",
    "        shutil.copy2(file_path, save_path)\n"
   ]
  }
 ],
 "metadata": {
  "kernelspec": {
   "display_name": "Python 3 (ipykernel)",
   "language": "python",
   "name": "python3"
  },
  "language_info": {
   "codemirror_mode": {
    "name": "ipython",
    "version": 3
   },
   "file_extension": ".py",
   "mimetype": "text/x-python",
   "name": "python",
   "nbconvert_exporter": "python",
   "pygments_lexer": "ipython3",
   "version": "3.9.7"
  }
 },
 "nbformat": 4,
 "nbformat_minor": 5
}
