{
 "cells": [
  {
   "cell_type": "code",
   "execution_count": 4,
   "id": "1f32e6dc",
   "metadata": {},
   "outputs": [],
   "source": [
    "import os\n",
    "import cv2\n",
    "import dlib\n",
    "import numpy as np\n"
   ]
  },
  {
   "cell_type": "code",
   "execution_count": 5,
   "id": "26dc2fec",
   "metadata": {},
   "outputs": [],
   "source": [
    "\n",
    "input_dir = \"/rhinophyma_rendered\"\n",
    "output_dir = \"/rhi_masked\"\n",
    "rejected_dir = \"/rhi_rejected\"\n"
   ]
  },
  {
   "cell_type": "code",
   "execution_count": 6,
   "id": "bba3f689",
   "metadata": {},
   "outputs": [],
   "source": [
    "#masking and resizing the images to (224,224) for further to be suitable for classification models\n",
    "\n",
    "def extract_face(image_path):\n",
    "    img = cv2.imread(image_path)\n",
    "    detector = dlib.get_frontal_face_detector()\n",
    "    faces = detector(img, 1)\n",
    "    if len(faces) > 0:\n",
    "        predictor = dlib.shape_predictor(\"shape_predictor_68_face_landmarks.dat\")\n",
    "        landmarks = predictor(img, faces[0])\n",
    "        landmark_tuple = []\n",
    "        for n in range(68):\n",
    "            x = landmarks.part(n).x\n",
    "            y = landmarks.part(n).y\n",
    "            landmark_tuple.append((x, y))\n",
    "        p_1 = (landmark_tuple[36][0], landmark_tuple[60][1]-10)\n",
    "        p_2 = (landmark_tuple[45][0], landmark_tuple[64][1]-10)\n",
    "        routes = [p_1, p_2, landmark_tuple[45], landmark_tuple[36]]\n",
    "        mask = np.zeros((img.shape[0], img.shape[1]), dtype=np.uint8)\n",
    "        mask = cv2.fillConvexPoly(mask, np.array(routes), 1)\n",
    "        out = np.zeros_like(img)\n",
    "        out[mask.astype(bool)] = img[mask.astype(bool)]\n",
    "        out = cv2.resize(out, (224, 224))\n",
    "        return out, True\n",
    "    else:\n",
    "        return None, False\n",
    "\n",
    "\n",
    "if not os.path.exists(output_dir):\n",
    "    os.makedirs(output_dir)\n",
    "if not os.path.exists(rejected_dir):\n",
    "    os.makedirs(rejected_dir)\n",
    "\n",
    "for filename in os.listdir(input_dir):\n",
    "    if filename.endswith('.jpg') or filename.endswith('.png'):\n",
    "        input_path = os.path.join(input_dir, filename)\n",
    "        output_path = os.path.join(output_dir, filename)\n",
    "        rejected_path = os.path.join(rejected_dir, filename)\n",
    "        face, success = extract_face(input_path)\n",
    "        if success:\n",
    "            cv2.imwrite(output_path, face)\n",
    "        else:\n",
    "            cv2.imwrite(rejected_path, cv2.imread(input_path))"
   ]
  }
 ],
 "metadata": {
  "kernelspec": {
   "display_name": "Python 3 (ipykernel)",
   "language": "python",
   "name": "python3"
  },
  "language_info": {
   "codemirror_mode": {
    "name": "ipython",
    "version": 3
   },
   "file_extension": ".py",
   "mimetype": "text/x-python",
   "name": "python",
   "nbconvert_exporter": "python",
   "pygments_lexer": "ipython3",
   "version": "3.9.7"
  }
 },
 "nbformat": 4,
 "nbformat_minor": 5
}
